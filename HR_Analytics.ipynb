{
 "cells": [
  {
   "cell_type": "markdown",
   "id": "aa85b037",
   "metadata": {},
   "source": [
    "# Milestone 2 Phase 1\n",
    "\n",
    "### Data Set Information:\n",
    "\n",
    "Sebuah perusahaan yang bergerak di bidang Big Data dan Data Science ingin merekrut ilmuwan data di antara orang-orang yang berhasil lulus beberapa kursus yang diadakan oleh perusahaan. Banyak orang mendaftar untuk pelatihan mereka. Perusahaan ingin mengetahui kandidat mana yang benar-benar ingin bekerja untuk perusahaan setelah pelatihan atau mencari pekerjaan baru karena membantu mengurangi biaya dan waktu serta kualitas pelatihan atau perencanaan kursus dan kategorisasi kandidat. Informasi terkait *demographics*, *education*, *experience* dari pendaftaran dan pendaftaran kandidat.\n",
    "\n",
    "Dataset ini dirancang untuk memahami faktor-faktor yang menyebabkan seseorang meninggalkan pekerjaan saat ini untuk penelitian SDM juga. Dengan model yang menggunakan kredensial, demografi, data pengalaman saat ini, Anda akan memprediksi probabilitas seorang kandidat untuk mencari pekerjaan baru atau akan bekerja untuk perusahaan, serta menafsirkan faktor-faktor yang memengaruhi keputusan karyawan.\n",
    "\n",
    "Source: https://www.kaggle.com/arashnic/hr-analytics-job-change-of-data-scientists?select=aug_train.csv"
   ]
  },
  {
   "cell_type": "markdown",
   "id": "4d6f61d0",
   "metadata": {},
   "source": [
    "### Import Library"
   ]
  },
  {
   "cell_type": "code",
   "execution_count": 1,
   "id": "ba103b25",
   "metadata": {},
   "outputs": [],
   "source": [
    "# for basic mathematics operation \n",
    "import numpy as np\n",
    "\n",
    "# for dataframe manipulations\n",
    "import pandas as pd\n",
    "\n",
    "# for Data Visualizations\n",
    "import matplotlib.pyplot as plt\n",
    "import seaborn as sns\n",
    "\n",
    "import warnings\n",
    "warnings.filterwarnings('ignore')\n",
    "\n",
    "# to make this notebook's output identical at every run\n",
    "np.random.seed(42)"
   ]
  },
  {
   "cell_type": "markdown",
   "id": "20693271",
   "metadata": {},
   "source": [
    "### Data Loading"
   ]
  },
  {
   "cell_type": "code",
   "execution_count": 2,
   "id": "ef1b9e33",
   "metadata": {},
   "outputs": [],
   "source": [
    "# Load the dataset\n",
    "df = pd.read_csv(\"aug_train.csv\")"
   ]
  },
  {
   "cell_type": "code",
   "execution_count": 3,
   "id": "2d4ab276",
   "metadata": {},
   "outputs": [
    {
     "data": {
      "text/html": [
       "<div>\n",
       "<style scoped>\n",
       "    .dataframe tbody tr th:only-of-type {\n",
       "        vertical-align: middle;\n",
       "    }\n",
       "\n",
       "    .dataframe tbody tr th {\n",
       "        vertical-align: top;\n",
       "    }\n",
       "\n",
       "    .dataframe thead th {\n",
       "        text-align: right;\n",
       "    }\n",
       "</style>\n",
       "<table border=\"1\" class=\"dataframe\">\n",
       "  <thead>\n",
       "    <tr style=\"text-align: right;\">\n",
       "      <th></th>\n",
       "      <th>enrollee_id</th>\n",
       "      <th>city</th>\n",
       "      <th>city_development_index</th>\n",
       "      <th>gender</th>\n",
       "      <th>relevent_experience</th>\n",
       "      <th>enrolled_university</th>\n",
       "      <th>education_level</th>\n",
       "      <th>major_discipline</th>\n",
       "      <th>experience</th>\n",
       "      <th>company_size</th>\n",
       "      <th>company_type</th>\n",
       "      <th>last_new_job</th>\n",
       "      <th>training_hours</th>\n",
       "      <th>target</th>\n",
       "    </tr>\n",
       "  </thead>\n",
       "  <tbody>\n",
       "    <tr>\n",
       "      <th>0</th>\n",
       "      <td>8949</td>\n",
       "      <td>city_103</td>\n",
       "      <td>0.920</td>\n",
       "      <td>Male</td>\n",
       "      <td>Has relevent experience</td>\n",
       "      <td>no_enrollment</td>\n",
       "      <td>Graduate</td>\n",
       "      <td>STEM</td>\n",
       "      <td>&gt;20</td>\n",
       "      <td>NaN</td>\n",
       "      <td>NaN</td>\n",
       "      <td>1</td>\n",
       "      <td>36</td>\n",
       "      <td>1.0</td>\n",
       "    </tr>\n",
       "    <tr>\n",
       "      <th>1</th>\n",
       "      <td>29725</td>\n",
       "      <td>city_40</td>\n",
       "      <td>0.776</td>\n",
       "      <td>Male</td>\n",
       "      <td>No relevent experience</td>\n",
       "      <td>no_enrollment</td>\n",
       "      <td>Graduate</td>\n",
       "      <td>STEM</td>\n",
       "      <td>15</td>\n",
       "      <td>50-99</td>\n",
       "      <td>Pvt Ltd</td>\n",
       "      <td>&gt;4</td>\n",
       "      <td>47</td>\n",
       "      <td>0.0</td>\n",
       "    </tr>\n",
       "    <tr>\n",
       "      <th>2</th>\n",
       "      <td>11561</td>\n",
       "      <td>city_21</td>\n",
       "      <td>0.624</td>\n",
       "      <td>NaN</td>\n",
       "      <td>No relevent experience</td>\n",
       "      <td>Full time course</td>\n",
       "      <td>Graduate</td>\n",
       "      <td>STEM</td>\n",
       "      <td>5</td>\n",
       "      <td>NaN</td>\n",
       "      <td>NaN</td>\n",
       "      <td>never</td>\n",
       "      <td>83</td>\n",
       "      <td>0.0</td>\n",
       "    </tr>\n",
       "    <tr>\n",
       "      <th>3</th>\n",
       "      <td>33241</td>\n",
       "      <td>city_115</td>\n",
       "      <td>0.789</td>\n",
       "      <td>NaN</td>\n",
       "      <td>No relevent experience</td>\n",
       "      <td>NaN</td>\n",
       "      <td>Graduate</td>\n",
       "      <td>Business Degree</td>\n",
       "      <td>&lt;1</td>\n",
       "      <td>NaN</td>\n",
       "      <td>Pvt Ltd</td>\n",
       "      <td>never</td>\n",
       "      <td>52</td>\n",
       "      <td>1.0</td>\n",
       "    </tr>\n",
       "    <tr>\n",
       "      <th>4</th>\n",
       "      <td>666</td>\n",
       "      <td>city_162</td>\n",
       "      <td>0.767</td>\n",
       "      <td>Male</td>\n",
       "      <td>Has relevent experience</td>\n",
       "      <td>no_enrollment</td>\n",
       "      <td>Masters</td>\n",
       "      <td>STEM</td>\n",
       "      <td>&gt;20</td>\n",
       "      <td>50-99</td>\n",
       "      <td>Funded Startup</td>\n",
       "      <td>4</td>\n",
       "      <td>8</td>\n",
       "      <td>0.0</td>\n",
       "    </tr>\n",
       "  </tbody>\n",
       "</table>\n",
       "</div>"
      ],
      "text/plain": [
       "   enrollee_id      city  city_development_index gender  \\\n",
       "0         8949  city_103                   0.920   Male   \n",
       "1        29725   city_40                   0.776   Male   \n",
       "2        11561   city_21                   0.624    NaN   \n",
       "3        33241  city_115                   0.789    NaN   \n",
       "4          666  city_162                   0.767   Male   \n",
       "\n",
       "       relevent_experience enrolled_university education_level  \\\n",
       "0  Has relevent experience       no_enrollment        Graduate   \n",
       "1   No relevent experience       no_enrollment        Graduate   \n",
       "2   No relevent experience    Full time course        Graduate   \n",
       "3   No relevent experience                 NaN        Graduate   \n",
       "4  Has relevent experience       no_enrollment         Masters   \n",
       "\n",
       "  major_discipline experience company_size    company_type last_new_job  \\\n",
       "0             STEM        >20          NaN             NaN            1   \n",
       "1             STEM         15        50-99         Pvt Ltd           >4   \n",
       "2             STEM          5          NaN             NaN        never   \n",
       "3  Business Degree         <1          NaN         Pvt Ltd        never   \n",
       "4             STEM        >20        50-99  Funded Startup            4   \n",
       "\n",
       "   training_hours  target  \n",
       "0              36     1.0  \n",
       "1              47     0.0  \n",
       "2              83     0.0  \n",
       "3              52     1.0  \n",
       "4               8     0.0  "
      ]
     },
     "execution_count": 3,
     "metadata": {},
     "output_type": "execute_result"
    }
   ],
   "source": [
    "# Look at the first 5 rows the dataset\n",
    "df.head()"
   ]
  },
  {
   "cell_type": "markdown",
   "id": "a6900213",
   "metadata": {},
   "source": [
    "#### Attribute Information\n",
    "\n",
    "- enrollee_id : ID untuk kandidat\n",
    "- city: Kode kota\n",
    "- city_ development _index : Indeks pembangunan kota (berskala)\n",
    "- gender: Jenis kelamin kandidat\n",
    "- relevent_experience: Pengalaman kandidat yang relevan\n",
    "- enrolled_university: Jenis program Universitas yang terdaftar jika ada\n",
    "- education_level: Tingkat pendidikan kandidat\n",
    "- major_discipline : Pendidikan disiplin utama kandidat\n",
    "- experience: Kandidat total pengalaman dalam tahun\n",
    "- company_size: Jumlah karyawan di perusahaan pemberi kerja saat ini\n",
    "- company_type : Jenis majikan saat ini\n",
    "- lastnewjob: Perbedaan tahun antara pekerjaan sebelumnya dan pekerjaan saat ini\n",
    "- training_hours: jam pelatihan\n",
    "- target: **0** – Tidak mencari perubahan pekerjaan, **1** – Mencari perubahan pekerjaan"
   ]
  },
  {
   "cell_type": "code",
   "execution_count": 4,
   "id": "6a9040bc",
   "metadata": {},
   "outputs": [
    {
     "name": "stdout",
     "output_type": "stream",
     "text": [
      "<class 'pandas.core.frame.DataFrame'>\n",
      "RangeIndex: 19158 entries, 0 to 19157\n",
      "Data columns (total 14 columns):\n",
      " #   Column                  Non-Null Count  Dtype  \n",
      "---  ------                  --------------  -----  \n",
      " 0   enrollee_id             19158 non-null  int64  \n",
      " 1   city                    19158 non-null  object \n",
      " 2   city_development_index  19158 non-null  float64\n",
      " 3   gender                  14650 non-null  object \n",
      " 4   relevent_experience     19158 non-null  object \n",
      " 5   enrolled_university     18772 non-null  object \n",
      " 6   education_level         18698 non-null  object \n",
      " 7   major_discipline        16345 non-null  object \n",
      " 8   experience              19093 non-null  object \n",
      " 9   company_size            13220 non-null  object \n",
      " 10  company_type            13018 non-null  object \n",
      " 11  last_new_job            18735 non-null  object \n",
      " 12  training_hours          19158 non-null  int64  \n",
      " 13  target                  19158 non-null  float64\n",
      "dtypes: float64(2), int64(2), object(10)\n",
      "memory usage: 2.0+ MB\n"
     ]
    }
   ],
   "source": [
    "# Showing info of the dataset\n",
    "df.info()"
   ]
  },
  {
   "cell_type": "code",
   "execution_count": 5,
   "id": "9ab344a5",
   "metadata": {},
   "outputs": [
    {
     "data": {
      "text/html": [
       "<div>\n",
       "<style scoped>\n",
       "    .dataframe tbody tr th:only-of-type {\n",
       "        vertical-align: middle;\n",
       "    }\n",
       "\n",
       "    .dataframe tbody tr th {\n",
       "        vertical-align: top;\n",
       "    }\n",
       "\n",
       "    .dataframe thead th {\n",
       "        text-align: right;\n",
       "    }\n",
       "</style>\n",
       "<table border=\"1\" class=\"dataframe\">\n",
       "  <thead>\n",
       "    <tr style=\"text-align: right;\">\n",
       "      <th></th>\n",
       "      <th>count</th>\n",
       "      <th>mean</th>\n",
       "      <th>std</th>\n",
       "      <th>min</th>\n",
       "      <th>25%</th>\n",
       "      <th>50%</th>\n",
       "      <th>75%</th>\n",
       "      <th>max</th>\n",
       "    </tr>\n",
       "  </thead>\n",
       "  <tbody>\n",
       "    <tr>\n",
       "      <th>enrollee_id</th>\n",
       "      <td>19158.0</td>\n",
       "      <td>16875.358179</td>\n",
       "      <td>9616.292592</td>\n",
       "      <td>1.000</td>\n",
       "      <td>8554.25</td>\n",
       "      <td>16982.500</td>\n",
       "      <td>25169.75</td>\n",
       "      <td>33380.000</td>\n",
       "    </tr>\n",
       "    <tr>\n",
       "      <th>city_development_index</th>\n",
       "      <td>19158.0</td>\n",
       "      <td>0.828848</td>\n",
       "      <td>0.123362</td>\n",
       "      <td>0.448</td>\n",
       "      <td>0.74</td>\n",
       "      <td>0.903</td>\n",
       "      <td>0.92</td>\n",
       "      <td>0.949</td>\n",
       "    </tr>\n",
       "    <tr>\n",
       "      <th>training_hours</th>\n",
       "      <td>19158.0</td>\n",
       "      <td>65.366896</td>\n",
       "      <td>60.058462</td>\n",
       "      <td>1.000</td>\n",
       "      <td>23.00</td>\n",
       "      <td>47.000</td>\n",
       "      <td>88.00</td>\n",
       "      <td>336.000</td>\n",
       "    </tr>\n",
       "    <tr>\n",
       "      <th>target</th>\n",
       "      <td>19158.0</td>\n",
       "      <td>0.249348</td>\n",
       "      <td>0.432647</td>\n",
       "      <td>0.000</td>\n",
       "      <td>0.00</td>\n",
       "      <td>0.000</td>\n",
       "      <td>0.00</td>\n",
       "      <td>1.000</td>\n",
       "    </tr>\n",
       "  </tbody>\n",
       "</table>\n",
       "</div>"
      ],
      "text/plain": [
       "                          count          mean          std    min      25%  \\\n",
       "enrollee_id             19158.0  16875.358179  9616.292592  1.000  8554.25   \n",
       "city_development_index  19158.0      0.828848     0.123362  0.448     0.74   \n",
       "training_hours          19158.0     65.366896    60.058462  1.000    23.00   \n",
       "target                  19158.0      0.249348     0.432647  0.000     0.00   \n",
       "\n",
       "                              50%       75%        max  \n",
       "enrollee_id             16982.500  25169.75  33380.000  \n",
       "city_development_index      0.903      0.92      0.949  \n",
       "training_hours             47.000     88.00    336.000  \n",
       "target                      0.000      0.00      1.000  "
      ]
     },
     "execution_count": 5,
     "metadata": {},
     "output_type": "execute_result"
    }
   ],
   "source": [
    "# Get descriptive statistics\n",
    "df.describe().T"
   ]
  },
  {
   "cell_type": "code",
   "execution_count": 6,
   "id": "a1bfb359",
   "metadata": {},
   "outputs": [
    {
     "name": "stdout",
     "output_type": "stream",
     "text": [
      "Shape of the dataset : (19158, 14)\n"
     ]
    }
   ],
   "source": [
    "# Look at the shape of the dataset (# rows, # columns)\n",
    "print(\"Shape of the dataset :\", df.shape)"
   ]
  },
  {
   "cell_type": "markdown",
   "id": "144c076f",
   "metadata": {},
   "source": [
    "### Data Cleaning"
   ]
  },
  {
   "cell_type": "markdown",
   "id": "afb7ebe9",
   "metadata": {},
   "source": [
    "#### Missing Value & Duplicate\n",
    "Mengecek apakah ada missing value atau data yang duplikat pada dataset"
   ]
  },
  {
   "cell_type": "code",
   "execution_count": 7,
   "id": "fd3d5101",
   "metadata": {},
   "outputs": [
    {
     "name": "stdout",
     "output_type": "stream",
     "text": [
      "Missing value : \n",
      " enrollee_id                  0\n",
      "city                         0\n",
      "city_development_index       0\n",
      "gender                    4508\n",
      "relevent_experience          0\n",
      "enrolled_university        386\n",
      "education_level            460\n",
      "major_discipline          2813\n",
      "experience                  65\n",
      "company_size              5938\n",
      "company_type              6140\n",
      "last_new_job               423\n",
      "training_hours               0\n",
      "target                       0\n",
      "dtype: int64\n",
      "-----------------------------------------\n",
      "Duplicated data :  0\n"
     ]
    }
   ],
   "source": [
    "# Missing Value\n",
    "print('Missing value :','\\n', df.isnull().sum())\n",
    "print(\"-----------------------------------------\")\n",
    "# Duplicated Data\n",
    "print('Duplicated data : ', df.duplicated().sum())"
   ]
  },
  {
   "cell_type": "markdown",
   "id": "a72353dc",
   "metadata": {},
   "source": [
    "*Missing Value* dalam data ini bukanlah nilai yang mudah untuk diperhitungkan, karena jika salah dalam menginput data yang hilang mungkin bisa terjadi korelasi yang tidak ada, dan secara umum, logika data mungkin hilang. Oleh karena itu, EDA akan dilakukan pada semua data yang tersedia, dan untuk pemodelan, semua baris dengan nilai yang hilang akan dihapus."
   ]
  },
  {
   "cell_type": "markdown",
   "id": "f3feed9a",
   "metadata": {},
   "source": [
    "#### Drop Unused Columns"
   ]
  },
  {
   "cell_type": "code",
   "execution_count": 8,
   "id": "1d679579",
   "metadata": {},
   "outputs": [],
   "source": [
    "# Menghilangkan kolom yang tidak penting\n",
    "df.drop(['enrollee_id'],axis=1,inplace=True)"
   ]
  },
  {
   "cell_type": "markdown",
   "id": "9bc9b2f7",
   "metadata": {},
   "source": [
    "Kami menghapus atribut yang tidak digunakan."
   ]
  },
  {
   "cell_type": "markdown",
   "id": "93b98938",
   "metadata": {},
   "source": [
    "### Exploratory Data Analysis (EDA)\n",
    "Sebuah perusahaan yang bergerak di bidang Big Data dan Data Science ingin merekrut ilmuwan data di antara orang-orang yang berhasil lulus beberapa kursus yang diadakan oleh perusahaan. Banyak orang mendaftar untuk pelatihan mereka. Mari kita cari tau tipe orang seperti apa yang akan keluar dari perusahaan. Sebelum itu mari kita lihat dataset dulu."
   ]
  },
  {
   "cell_type": "code",
   "execution_count": 9,
   "id": "4948f6b7",
   "metadata": {},
   "outputs": [],
   "source": [
    "data = df.copy()"
   ]
  },
  {
   "cell_type": "code",
   "execution_count": 10,
   "id": "01d9aaed",
   "metadata": {},
   "outputs": [
    {
     "data": {
      "text/html": [
       "<div>\n",
       "<style scoped>\n",
       "    .dataframe tbody tr th:only-of-type {\n",
       "        vertical-align: middle;\n",
       "    }\n",
       "\n",
       "    .dataframe tbody tr th {\n",
       "        vertical-align: top;\n",
       "    }\n",
       "\n",
       "    .dataframe thead th {\n",
       "        text-align: right;\n",
       "    }\n",
       "</style>\n",
       "<table border=\"1\" class=\"dataframe\">\n",
       "  <thead>\n",
       "    <tr style=\"text-align: right;\">\n",
       "      <th></th>\n",
       "      <th>city</th>\n",
       "      <th>city_development_index</th>\n",
       "      <th>gender</th>\n",
       "      <th>relevent_experience</th>\n",
       "      <th>enrolled_university</th>\n",
       "      <th>education_level</th>\n",
       "      <th>major_discipline</th>\n",
       "      <th>experience</th>\n",
       "      <th>company_size</th>\n",
       "      <th>company_type</th>\n",
       "      <th>last_new_job</th>\n",
       "      <th>training_hours</th>\n",
       "      <th>target</th>\n",
       "    </tr>\n",
       "  </thead>\n",
       "  <tbody>\n",
       "    <tr>\n",
       "      <th>0</th>\n",
       "      <td>city_103</td>\n",
       "      <td>0.920</td>\n",
       "      <td>Male</td>\n",
       "      <td>Has relevent experience</td>\n",
       "      <td>no_enrollment</td>\n",
       "      <td>Graduate</td>\n",
       "      <td>STEM</td>\n",
       "      <td>&gt;20</td>\n",
       "      <td>NaN</td>\n",
       "      <td>NaN</td>\n",
       "      <td>1</td>\n",
       "      <td>36</td>\n",
       "      <td>1.0</td>\n",
       "    </tr>\n",
       "    <tr>\n",
       "      <th>1</th>\n",
       "      <td>city_40</td>\n",
       "      <td>0.776</td>\n",
       "      <td>Male</td>\n",
       "      <td>No relevent experience</td>\n",
       "      <td>no_enrollment</td>\n",
       "      <td>Graduate</td>\n",
       "      <td>STEM</td>\n",
       "      <td>15</td>\n",
       "      <td>50-99</td>\n",
       "      <td>Pvt Ltd</td>\n",
       "      <td>&gt;4</td>\n",
       "      <td>47</td>\n",
       "      <td>0.0</td>\n",
       "    </tr>\n",
       "    <tr>\n",
       "      <th>2</th>\n",
       "      <td>city_21</td>\n",
       "      <td>0.624</td>\n",
       "      <td>NaN</td>\n",
       "      <td>No relevent experience</td>\n",
       "      <td>Full time course</td>\n",
       "      <td>Graduate</td>\n",
       "      <td>STEM</td>\n",
       "      <td>5</td>\n",
       "      <td>NaN</td>\n",
       "      <td>NaN</td>\n",
       "      <td>never</td>\n",
       "      <td>83</td>\n",
       "      <td>0.0</td>\n",
       "    </tr>\n",
       "    <tr>\n",
       "      <th>3</th>\n",
       "      <td>city_115</td>\n",
       "      <td>0.789</td>\n",
       "      <td>NaN</td>\n",
       "      <td>No relevent experience</td>\n",
       "      <td>NaN</td>\n",
       "      <td>Graduate</td>\n",
       "      <td>Business Degree</td>\n",
       "      <td>&lt;1</td>\n",
       "      <td>NaN</td>\n",
       "      <td>Pvt Ltd</td>\n",
       "      <td>never</td>\n",
       "      <td>52</td>\n",
       "      <td>1.0</td>\n",
       "    </tr>\n",
       "    <tr>\n",
       "      <th>4</th>\n",
       "      <td>city_162</td>\n",
       "      <td>0.767</td>\n",
       "      <td>Male</td>\n",
       "      <td>Has relevent experience</td>\n",
       "      <td>no_enrollment</td>\n",
       "      <td>Masters</td>\n",
       "      <td>STEM</td>\n",
       "      <td>&gt;20</td>\n",
       "      <td>50-99</td>\n",
       "      <td>Funded Startup</td>\n",
       "      <td>4</td>\n",
       "      <td>8</td>\n",
       "      <td>0.0</td>\n",
       "    </tr>\n",
       "  </tbody>\n",
       "</table>\n",
       "</div>"
      ],
      "text/plain": [
       "       city  city_development_index gender      relevent_experience  \\\n",
       "0  city_103                   0.920   Male  Has relevent experience   \n",
       "1   city_40                   0.776   Male   No relevent experience   \n",
       "2   city_21                   0.624    NaN   No relevent experience   \n",
       "3  city_115                   0.789    NaN   No relevent experience   \n",
       "4  city_162                   0.767   Male  Has relevent experience   \n",
       "\n",
       "  enrolled_university education_level major_discipline experience  \\\n",
       "0       no_enrollment        Graduate             STEM        >20   \n",
       "1       no_enrollment        Graduate             STEM         15   \n",
       "2    Full time course        Graduate             STEM          5   \n",
       "3                 NaN        Graduate  Business Degree         <1   \n",
       "4       no_enrollment         Masters             STEM        >20   \n",
       "\n",
       "  company_size    company_type last_new_job  training_hours  target  \n",
       "0          NaN             NaN            1              36     1.0  \n",
       "1        50-99         Pvt Ltd           >4              47     0.0  \n",
       "2          NaN             NaN        never              83     0.0  \n",
       "3          NaN         Pvt Ltd        never              52     1.0  \n",
       "4        50-99  Funded Startup            4               8     0.0  "
      ]
     },
     "execution_count": 10,
     "metadata": {},
     "output_type": "execute_result"
    }
   ],
   "source": [
    "data.head()"
   ]
  },
  {
   "cell_type": "markdown",
   "id": "9b41c920",
   "metadata": {},
   "source": [
    "**Mari kita melihat eksplorasi datanya**"
   ]
  },
  {
   "cell_type": "markdown",
   "id": "ff58e36e",
   "metadata": {},
   "source": [
    "### 1.  City Development Index\n",
    "Fitur ini memiliki indeks perkembangan kota."
   ]
  },
  {
   "cell_type": "code",
   "execution_count": 11,
   "id": "f3ca16f9",
   "metadata": {},
   "outputs": [
    {
     "data": {
      "image/png": "[encoded data removed]",
      "text/plain": [
       "<Figure size 864x360 with 1 Axes>"
      ]
     },
     "metadata": {
      "needs_background": "light"
     },
     "output_type": "display_data"
    }
   ],
   "source": [
    "plt.figure(figsize=(12, 5))\n",
    "sns.kdeplot(data=data, x=\"city_development_index\", hue=\"target\",cut = 0,palette='Set2');"
   ]
  },
  {
   "cell_type": "markdown",
   "id": "9f73b38e",
   "metadata": {},
   "source": [
    "Di sini kita dapat melihat bahwa orang-orang yang tinggal di kota-kota maju memiliki kemungkinan yang lebih kecil untuk berpindah pekerjaan."
   ]
  },
  {
   "cell_type": "markdown",
   "id": "7118ae11",
   "metadata": {},
   "source": [
    "### 2. Gender\n",
    "Fitur ini memberi tahu jenis kelamin dari kandidat."
   ]
  },
  {
   "cell_type": "code",
   "execution_count": 12,
   "id": "a64348f1",
   "metadata": {},
   "outputs": [
    {
     "data": {
      "image/png": "[encoded data removed]",
      "text/plain": [
       "<Figure size 864x360 with 1 Axes>"
      ]
     },
     "metadata": {
      "needs_background": "light"
     },
     "output_type": "display_data"
    }
   ],
   "source": [
    "plt.figure(figsize=(12, 5))\n",
    "sns.set_style('whitegrid')\n",
    "sns.countplot(x = 'gender',hue='target',data=data,palette='Set2');"
   ]
  },
  {
   "cell_type": "markdown",
   "id": "33a3ed40",
   "metadata": {},
   "source": [
    "Karena dari dataset diatas kita melihat adanya *NAN* maka kita akan mengisi *NAN*-nya dan akan menghilangkan *Other* karena dapat dilihat dari grafik diatas jika dihilangkan tidak akan berpengaruh banyak pada dataset berikut ini."
   ]
  },
  {
   "cell_type": "code",
   "execution_count": 13,
   "id": "9ab8bbdb",
   "metadata": {},
   "outputs": [],
   "source": [
    "data[\"gender\"].fillna(\"Male\", inplace = True)\n",
    "\n",
    "\n",
    "g = pd.get_dummies(data['gender'])\n",
    "data.drop(['gender'],axis=1,inplace=True)\n",
    "data = pd.concat([data,g],axis=1)\n",
    "\n",
    "\n",
    "data.drop(['Other'],axis=1,inplace=True) "
   ]
  },
  {
   "cell_type": "markdown",
   "id": "32c1efb8",
   "metadata": {},
   "source": [
    "Dapat kita lihat bahwa dari *Pria* banyak sekali yang keinginan untuk tidak pindah dari pekerjannya itu sangat banyak lebih dari 10.000 sedangkan yang ingin pindah lumayan banyak sekitar 3000-an. Sedangkan dengan *Wanita* lebih sedikit dari *pria* seperti yang tidak ingin pindah kurang lebih 1000, sedangkan *wanita* yang ingin pindah hanya sedikit kurang dari 500. Maka dari itu bisa kita simpulkan bahwa jenis kelamin yang lebih mempunyai kemauan untuk pindah dan tidak ialah *Pria*"
   ]
  },
  {
   "cell_type": "markdown",
   "id": "1b8ed1f6",
   "metadata": {},
   "source": [
    "### 3. Relevant Experience\n",
    "Fitur ini memberi tahu apakah kandidat memiliki pengalaman yang relevan atau tidak."
   ]
  },
  {
   "cell_type": "code",
   "execution_count": 14,
   "id": "f8c16cda",
   "metadata": {},
   "outputs": [
    {
     "data": {
      "image/png": "[encoded data removed]",
      "text/plain": [
       "<Figure size 864x360 with 1 Axes>"
      ]
     },
     "metadata": {},
     "output_type": "display_data"
    }
   ],
   "source": [
    "plt.figure(figsize=(12, 5))\n",
    "sns.countplot(x = 'relevent_experience',hue='target',data=data,palette='Set2');"
   ]
  },
  {
   "cell_type": "markdown",
   "id": "527098ae",
   "metadata": {},
   "source": [
    "Sebelum itu, kita akan melakukan penghapusan pada data seseorang yang tidak memiliki pengalaman yang relevan untuk pekerjaan data science ini untuk mencari yang terbaik dari yang terbaik dari kandidat."
   ]
  },
  {
   "cell_type": "code",
   "execution_count": 15,
   "id": "c9f43863",
   "metadata": {},
   "outputs": [],
   "source": [
    "rel = pd.get_dummies(data['relevent_experience'])\n",
    "data.drop(['relevent_experience'],axis=1,inplace=True)\n",
    "data = pd.concat([data,rel],axis=1)\n",
    "\n",
    "\n",
    "data.drop(['No relevent experience'],axis=1,inplace=True) "
   ]
  },
  {
   "cell_type": "markdown",
   "id": "33021954",
   "metadata": {},
   "source": [
    "Dapat kita simpulkan dari barplot diatas bahwa, orang yang ingin memiliki pekerjaan baru dengan pengalaman yang relevan lebih banyak ketimbang orang yang memiliki background yang tidak relevan."
   ]
  },
  {
   "cell_type": "markdown",
   "id": "f0c99181",
   "metadata": {},
   "source": [
    "### 4. Enrolled University\n",
    "Fitur ini menunjukan jenis program universitas yang terdaftar."
   ]
  },
  {
   "cell_type": "code",
   "execution_count": 16,
   "id": "10f6fcd8",
   "metadata": {},
   "outputs": [
    {
     "data": {
      "image/png": "[encoded data removed]",
      "text/plain": [
       "<Figure size 864x360 with 1 Axes>"
      ]
     },
     "metadata": {},
     "output_type": "display_data"
    }
   ],
   "source": [
    "plt.figure(figsize=(12, 5))\n",
    "sns.countplot(x = 'enrolled_university',hue='target',data=data,palette='Set2');"
   ]
  },
  {
   "cell_type": "markdown",
   "id": "ae8feb8d",
   "metadata": {},
   "source": [
    "Karena dari dataset diatas kita melihat adanya *NAN* maka kita akan mengisi *NAN*-nya dan akan menghilangkan *Other* karena dapat dilihat dari grafik diatas jika dihilangkan tidak akan berpengaruh banyak pada dataset berikut ini."
   ]
  },
  {
   "cell_type": "code",
   "execution_count": 17,
   "id": "0769c98c",
   "metadata": {},
   "outputs": [],
   "source": [
    "data[\"enrolled_university\"].fillna(\"no_enrollment\", inplace = True)\n",
    "\n",
    "\n",
    "e = pd.get_dummies(data['enrolled_university'])\n",
    "data.drop(['enrolled_university'],axis=1,inplace=True)\n",
    "data = pd.concat([data,e],axis=1)\n",
    "\n",
    "\n",
    "data.drop(['Part time course'],axis=1,inplace=True) "
   ]
  },
  {
   "cell_type": "markdown",
   "id": "f476cbcc",
   "metadata": {},
   "source": [
    "Kita dapat melihat bahwa orang yang berminat dalam mendaftarkan diri untuk pekerjaan apapun ialah orang yang mengikuti program-program diluar kampus untuk mendapatkan ilmu yang lebih banyak."
   ]
  },
  {
   "cell_type": "markdown",
   "id": "b5bddbc9",
   "metadata": {},
   "source": [
    "### 5. Education Level\n",
    "Fitur ini menyebutkan tingkat pendidikan kandidat."
   ]
  },
  {
   "cell_type": "code",
   "execution_count": 18,
   "id": "58ba3aea",
   "metadata": {},
   "outputs": [
    {
     "data": {
      "image/png": "[encoded data removed]",
      "text/plain": [
       "<Figure size 864x360 with 1 Axes>"
      ]
     },
     "metadata": {},
     "output_type": "display_data"
    }
   ],
   "source": [
    "plt.figure(figsize=(12, 5))\n",
    "sns.countplot(x = 'education_level',hue='target',data=data,palette='Set2');"
   ]
  },
  {
   "cell_type": "markdown",
   "id": "d6c596f2",
   "metadata": {},
   "source": [
    "Karena dari dataset diatas kita melihat adanya *NAN* maka kita akan mengisi *NAN*-nya dan akan menghilangkan *Other* karena dapat dilihat dari grafik diatas jika dihilangkan tidak akan berpengaruh banyak pada dataset berikut ini."
   ]
  },
  {
   "cell_type": "code",
   "execution_count": 19,
   "id": "e481a361",
   "metadata": {},
   "outputs": [],
   "source": [
    "data[\"education_level\"].fillna(\"Graduate\", inplace = True)\n",
    "\n",
    "\n",
    "edu = pd.get_dummies(data['education_level'])\n",
    "data.drop(['education_level'],axis=1,inplace=True)\n",
    "data = pd.concat([data,edu],axis=1)\n",
    "\n",
    "\n",
    "data.drop(['Phd','Primary School'],axis=1,inplace=True) "
   ]
  },
  {
   "cell_type": "markdown",
   "id": "7279bbd7",
   "metadata": {},
   "source": [
    "Kita dapat simpulkan dari plot diatas bahwa tidak ada satu orang pun yang terjun ke bidang ini tanpa lulus."
   ]
  },
  {
   "cell_type": "markdown",
   "id": "a74f3d71",
   "metadata": {},
   "source": [
    "### 6. Major Discipline\n",
    "Fitur ini menyebutkan disiplin utama pendidikan kandidat."
   ]
  },
  {
   "cell_type": "code",
   "execution_count": 20,
   "id": "2c41a57f",
   "metadata": {},
   "outputs": [
    {
     "data": {
      "image/png": "[encoded data removed]",
      "text/plain": [
       "<Figure size 864x360 with 1 Axes>"
      ]
     },
     "metadata": {},
     "output_type": "display_data"
    }
   ],
   "source": [
    "plt.figure(figsize=(12, 5))\n",
    "sns.countplot(x = 'major_discipline',hue='target',data=data,palette='Set2');"
   ]
  },
  {
   "cell_type": "markdown",
   "id": "f2a39716",
   "metadata": {},
   "source": [
    "Karena dari dataset diatas kita melihat adanya *NAN* maka kita akan mengisi *NAN*-nya dan akan menghilangkan *Other* karena dapat dilihat dari grafik diatas jika dihilangkan tidak akan berpengaruh banyak pada dataset berikut ini."
   ]
  },
  {
   "cell_type": "code",
   "execution_count": 21,
   "id": "e777f051",
   "metadata": {},
   "outputs": [],
   "source": [
    "data[\"major_discipline\"].fillna(\"STEM\", inplace = True)\n",
    "\n",
    "\n",
    "md = pd.get_dummies(data['major_discipline'])\n",
    "data.drop(['major_discipline'],axis=1,inplace=True)\n",
    "data = pd.concat([data,md],axis=1)\n",
    "\n",
    "\n",
    "data.drop(['Business Degree','Arts','Humanities','No Major','Other'],axis=1,inplace=True) "
   ]
  },
  {
   "cell_type": "markdown",
   "id": "b2b01541",
   "metadata": {},
   "source": [
    "Dari beberapa jurusan yang diatas, jurusan yang paling banyak untuk pindah pekerjaan iyalah STEM (Science, Technology, Engineering, and Mathematics) sedangkan paling sedikit yaitu Arts."
   ]
  },
  {
   "cell_type": "markdown",
   "id": "d7540fab",
   "metadata": {},
   "source": [
    "### 7. Experience\n",
    "Fitur ini menyebutkan total pengalaman kandidat selama bertahun-tahun."
   ]
  },
  {
   "cell_type": "code",
   "execution_count": 22,
   "id": "52b35ed9",
   "metadata": {},
   "outputs": [],
   "source": [
    "data[\"experience\"].fillna(\"20\", inplace = True)\n",
    "\n",
    "data.replace({\"experience\":{\">20\":20,\"<1\":1}},inplace = True)\n",
    "\n",
    "data[\"experience\"] = data[\"experience\"].astype(\"int64\")"
   ]
  },
  {
   "cell_type": "code",
   "execution_count": 23,
   "id": "d9ae799c",
   "metadata": {},
   "outputs": [
    {
     "data": {
      "image/png": "[encoded data removed]",
      "text/plain": [
       "<Figure size 864x360 with 1 Axes>"
      ]
     },
     "metadata": {},
     "output_type": "display_data"
    }
   ],
   "source": [
    "plt.figure(figsize=(12, 5))\n",
    "sns.countplot(x = 'experience',hue=\"target\",data=data,palette='Set2');"
   ]
  },
  {
   "cell_type": "markdown",
   "id": "d19500bb",
   "metadata": {},
   "source": [
    "Dari plot diatas bisa kita simpulkan bahwa semakin lama pengalaman di suatu pekerjaan belum tentu menjadi patokan orang untuk berpindah pekerjaan, tetapi setelah seseorang yang memiliki pengalaman selama 20 tahun ia mungkin sangat bosan dengan pekerjaannya makanya wajar saja persentasenya lebih tinggi orang yang ingin mengganti pekerjaannya."
   ]
  },
  {
   "cell_type": "markdown",
   "id": "a6eff95f",
   "metadata": {},
   "source": [
    "### 8. Training Hours\n",
    "Fitur ini menyebutkan jam pelatihan yang diselesaikan oleh kandidat."
   ]
  },
  {
   "cell_type": "code",
   "execution_count": 24,
   "id": "f6c2ead7",
   "metadata": {},
   "outputs": [
    {
     "data": {
      "image/png": "[encoded data removed]",
      "text/plain": [
       "<Figure size 864x360 with 1 Axes>"
      ]
     },
     "metadata": {},
     "output_type": "display_data"
    }
   ],
   "source": [
    "plt.figure(figsize=(12, 5))\n",
    "sns.kdeplot(data=data, x=\"training_hours\", hue=\"target\",cut = 0,palette='Set2');"
   ]
  },
  {
   "cell_type": "markdown",
   "id": "1428ccbc",
   "metadata": {},
   "source": [
    "Di sini kita dapat melihat bahwa karyawan dengan jam pelatihan yang lebih sedikit memiliki kemungkinan lebih rendah untuk berpindah pekerjaan."
   ]
  },
  {
   "cell_type": "code",
   "execution_count": 25,
   "id": "82b541f6",
   "metadata": {},
   "outputs": [
    {
     "data": {
      "text/html": [
       "<div>\n",
       "<style scoped>\n",
       "    .dataframe tbody tr th:only-of-type {\n",
       "        vertical-align: middle;\n",
       "    }\n",
       "\n",
       "    .dataframe tbody tr th {\n",
       "        vertical-align: top;\n",
       "    }\n",
       "\n",
       "    .dataframe thead th {\n",
       "        text-align: right;\n",
       "    }\n",
       "</style>\n",
       "<table border=\"1\" class=\"dataframe\">\n",
       "  <thead>\n",
       "    <tr style=\"text-align: right;\">\n",
       "      <th></th>\n",
       "      <th>city</th>\n",
       "      <th>city_development_index</th>\n",
       "      <th>experience</th>\n",
       "      <th>company_size</th>\n",
       "      <th>company_type</th>\n",
       "      <th>last_new_job</th>\n",
       "      <th>training_hours</th>\n",
       "      <th>target</th>\n",
       "      <th>Female</th>\n",
       "      <th>Male</th>\n",
       "      <th>Has relevent experience</th>\n",
       "      <th>Full time course</th>\n",
       "      <th>no_enrollment</th>\n",
       "      <th>Graduate</th>\n",
       "      <th>High School</th>\n",
       "      <th>Masters</th>\n",
       "      <th>STEM</th>\n",
       "    </tr>\n",
       "  </thead>\n",
       "  <tbody>\n",
       "    <tr>\n",
       "      <th>0</th>\n",
       "      <td>city_103</td>\n",
       "      <td>0.920</td>\n",
       "      <td>20</td>\n",
       "      <td>NaN</td>\n",
       "      <td>NaN</td>\n",
       "      <td>1</td>\n",
       "      <td>36</td>\n",
       "      <td>1.0</td>\n",
       "      <td>0</td>\n",
       "      <td>1</td>\n",
       "      <td>1</td>\n",
       "      <td>0</td>\n",
       "      <td>1</td>\n",
       "      <td>1</td>\n",
       "      <td>0</td>\n",
       "      <td>0</td>\n",
       "      <td>1</td>\n",
       "    </tr>\n",
       "    <tr>\n",
       "      <th>1</th>\n",
       "      <td>city_40</td>\n",
       "      <td>0.776</td>\n",
       "      <td>15</td>\n",
       "      <td>50-99</td>\n",
       "      <td>Pvt Ltd</td>\n",
       "      <td>&gt;4</td>\n",
       "      <td>47</td>\n",
       "      <td>0.0</td>\n",
       "      <td>0</td>\n",
       "      <td>1</td>\n",
       "      <td>0</td>\n",
       "      <td>0</td>\n",
       "      <td>1</td>\n",
       "      <td>1</td>\n",
       "      <td>0</td>\n",
       "      <td>0</td>\n",
       "      <td>1</td>\n",
       "    </tr>\n",
       "    <tr>\n",
       "      <th>2</th>\n",
       "      <td>city_21</td>\n",
       "      <td>0.624</td>\n",
       "      <td>5</td>\n",
       "      <td>NaN</td>\n",
       "      <td>NaN</td>\n",
       "      <td>never</td>\n",
       "      <td>83</td>\n",
       "      <td>0.0</td>\n",
       "      <td>0</td>\n",
       "      <td>1</td>\n",
       "      <td>0</td>\n",
       "      <td>1</td>\n",
       "      <td>0</td>\n",
       "      <td>1</td>\n",
       "      <td>0</td>\n",
       "      <td>0</td>\n",
       "      <td>1</td>\n",
       "    </tr>\n",
       "    <tr>\n",
       "      <th>3</th>\n",
       "      <td>city_115</td>\n",
       "      <td>0.789</td>\n",
       "      <td>1</td>\n",
       "      <td>NaN</td>\n",
       "      <td>Pvt Ltd</td>\n",
       "      <td>never</td>\n",
       "      <td>52</td>\n",
       "      <td>1.0</td>\n",
       "      <td>0</td>\n",
       "      <td>1</td>\n",
       "      <td>0</td>\n",
       "      <td>0</td>\n",
       "      <td>1</td>\n",
       "      <td>1</td>\n",
       "      <td>0</td>\n",
       "      <td>0</td>\n",
       "      <td>0</td>\n",
       "    </tr>\n",
       "    <tr>\n",
       "      <th>4</th>\n",
       "      <td>city_162</td>\n",
       "      <td>0.767</td>\n",
       "      <td>20</td>\n",
       "      <td>50-99</td>\n",
       "      <td>Funded Startup</td>\n",
       "      <td>4</td>\n",
       "      <td>8</td>\n",
       "      <td>0.0</td>\n",
       "      <td>0</td>\n",
       "      <td>1</td>\n",
       "      <td>1</td>\n",
       "      <td>0</td>\n",
       "      <td>1</td>\n",
       "      <td>0</td>\n",
       "      <td>0</td>\n",
       "      <td>1</td>\n",
       "      <td>1</td>\n",
       "    </tr>\n",
       "  </tbody>\n",
       "</table>\n",
       "</div>"
      ],
      "text/plain": [
       "       city  city_development_index  experience company_size    company_type  \\\n",
       "0  city_103                   0.920          20          NaN             NaN   \n",
       "1   city_40                   0.776          15        50-99         Pvt Ltd   \n",
       "2   city_21                   0.624           5          NaN             NaN   \n",
       "3  city_115                   0.789           1          NaN         Pvt Ltd   \n",
       "4  city_162                   0.767          20        50-99  Funded Startup   \n",
       "\n",
       "  last_new_job  training_hours  target  Female  Male  Has relevent experience  \\\n",
       "0            1              36     1.0       0     1                        1   \n",
       "1           >4              47     0.0       0     1                        0   \n",
       "2        never              83     0.0       0     1                        0   \n",
       "3        never              52     1.0       0     1                        0   \n",
       "4            4               8     0.0       0     1                        1   \n",
       "\n",
       "   Full time course  no_enrollment  Graduate  High School  Masters  STEM  \n",
       "0                 0              1         1            0        0     1  \n",
       "1                 0              1         1            0        0     1  \n",
       "2                 1              0         1            0        0     1  \n",
       "3                 0              1         1            0        0     0  \n",
       "4                 0              1         0            0        1     1  "
      ]
     },
     "execution_count": 25,
     "metadata": {},
     "output_type": "execute_result"
    }
   ],
   "source": [
    "data.head()"
   ]
  },
  {
   "cell_type": "markdown",
   "id": "b24d13c1",
   "metadata": {},
   "source": [
    "### Training Hours vs Relevent Experience"
   ]
  },
  {
   "cell_type": "code",
   "execution_count": 26,
   "id": "9f40dddb",
   "metadata": {},
   "outputs": [
    {
     "data": {
      "image/png": "[encoded data removed]",
      "text/plain": [
       "<Figure size 864x360 with 1 Axes>"
      ]
     },
     "metadata": {},
     "output_type": "display_data"
    }
   ],
   "source": [
    "# Training Hours vs Relevent Experience\n",
    "plt.figure(figsize=(12, 5))\n",
    "sns.kdeplot(data=data, x=\"training_hours\", hue=\"Has relevent experience\",cut = 0,palette='Set2');"
   ]
  },
  {
   "cell_type": "markdown",
   "id": "c7f45fb6",
   "metadata": {},
   "source": [
    "Visualisasi di atas menunjukkan bahwa ada lebih banyak karyawan dengan pengalaman yang relevan dengan jam pelatihan yang lebih rendah."
   ]
  },
  {
   "cell_type": "markdown",
   "id": "7b03904e",
   "metadata": {},
   "source": [
    "### Education Level vs Relevent Experience"
   ]
  },
  {
   "cell_type": "code",
   "execution_count": 27,
   "id": "dc5ca837",
   "metadata": {},
   "outputs": [
    {
     "data": {
      "image/png": "[encoded data removed]",
      "text/plain": [
       "<Figure size 864x360 with 1 Axes>"
      ]
     },
     "metadata": {},
     "output_type": "display_data"
    }
   ],
   "source": [
    "# Education Level vs Relevent Experience\n",
    "plt.figure(figsize=(12, 5))\n",
    "sns.countplot(x = 'education_level',hue='relevent_experience',data=df,palette='Set2');"
   ]
  },
  {
   "cell_type": "markdown",
   "id": "3e58621e",
   "metadata": {},
   "source": [
    "Di sini kita dapat melihat bahwa lulusan memiliki pengalaman yang lebih relevan dibandingkan dengan yang lain."
   ]
  },
  {
   "cell_type": "markdown",
   "id": "5f4a7fe3",
   "metadata": {},
   "source": [
    "### Data Pre-processing\n",
    "Pertama, kita mempersiapkan data dengan fitur-fitur yang sudah dipilih untuk pelatihan model"
   ]
  },
  {
   "cell_type": "markdown",
   "id": "6c4dc76e",
   "metadata": {},
   "source": [
    "#### Labelling\n",
    "\n",
    "Label encoding \"city\". Beberapa fitur kategorik dalam dataset ini adalah ordinal, yaitu ada urutan kategori yang jelas. Jadi labelling secara manual."
   ]
  },
  {
   "cell_type": "code",
   "execution_count": 30,
   "id": "69949380",
   "metadata": {},
   "outputs": [
    {
     "data": {
      "text/plain": [
       "0     5\n",
       "1    77\n",
       "2    64\n",
       "3    14\n",
       "4    50\n",
       "Name: city, dtype: int64"
      ]
     },
     "execution_count": 30,
     "metadata": {},
     "output_type": "execute_result"
    }
   ],
   "source": [
    "from sklearn.preprocessing import LabelEncoder\n",
    "\n",
    "le = LabelEncoder()\n",
    "\n",
    "df['city'] = le.fit_transform(df['city'])\n",
    "df['city'].head(5)"
   ]
  },
  {
   "cell_type": "code",
   "execution_count": 28,
   "id": "c4681515",
   "metadata": {},
   "outputs": [],
   "source": [
    "gender = {\n",
    "    'Female' : 2,\n",
    "    'Male' : 1,\n",
    "    'Other' : 0\n",
    "    }\n",
    "\n",
    "relevent_experience = {\n",
    "    'Has relevent experience' : 1,\n",
    "    'No relevent experience' : 0\n",
    "    }\n",
    "\n",
    "enrolled_university = {\n",
    "    'no_enrollment' : 0,\n",
    "    'Part time course' : 1,\n",
    "    'Full time course' : 2\n",
    "    }\n",
    "\n",
    "education_level = {\n",
    "    'Primary School' :    0,\n",
    "    'Graduate'       :    2,\n",
    "    'Masters'        :    3, \n",
    "    'High School'    :    1, \n",
    "    'Phd'            :    4\n",
    "    } \n",
    "\n",
    "major = {\n",
    "    'STEM' : 0,\n",
    "    'Business Degree' : 1,\n",
    "    'Humanities' : 2,\n",
    "    'Arts' : 3,\n",
    "    'Other' : 4,\n",
    "    'No Major' : 5\n",
    "    }\n",
    "\n",
    "experience = {\n",
    "    '<1' : 0,\n",
    "    '1' : 1,\n",
    "    '2' : 2,\n",
    "    '3' : 3,\n",
    "    '4' : 4,\n",
    "    '5' : 5,\n",
    "    '6' : 6,\n",
    "    '7' : 7,\n",
    "    '8' : 8,\n",
    "    '9' : 9,\n",
    "    '10' : 10,\n",
    "    '11' : 11,\n",
    "    '12' : 12,\n",
    "    '13' : 13,\n",
    "    '14' : 14,\n",
    "    '15' : 15,\n",
    "    '16' : 16,\n",
    "    '17' : 17,\n",
    "    '18' : 18,\n",
    "    '19' : 19,\n",
    "    '20' : 20,\n",
    "    '>20' : 21\n",
    "    }\n",
    "\n",
    "size = {\n",
    "    '<10' : 0,\n",
    "    '10/49' : 1,\n",
    "    '50-99' : 2,\n",
    "    '100-500' :3,\n",
    "    '500-999' :4,\n",
    "    '1000-4999': 5,\n",
    "    '5000-9999' : 6,\n",
    "    '10000+' : 7\n",
    "    }\n",
    "\n",
    "company_type = {\n",
    "    'Pvt Ltd'               :    0,\n",
    "    'Funded Startup'        :    1, \n",
    "    'Early Stage Startup'   :    2, \n",
    "    'Other'                 :    3, \n",
    "    'Public Sector'         :    4, \n",
    "    'NGO'                   :    5\n",
    "}\n",
    "\n",
    "last_new_job = {\n",
    "    'never'        :    0,\n",
    "    '1'            :    1, \n",
    "    '2'            :    2, \n",
    "    '3'            :    3, \n",
    "    '4'            :    4, \n",
    "    '>4'           :    5\n",
    "}\n",
    "\n",
    "df.loc[:,'education_level'] = df['education_level'].map(education_level)\n",
    "df.loc[:,'company_size'] = df['company_size'].map(size)\n",
    "df.loc[:,'company_type'] = df['company_type'].map(company_type)\n",
    "df.loc[:,'last_new_job'] = df['last_new_job'].map(last_new_job)\n",
    "df.loc[:,'major_discipline'] = df['major_discipline'].map(major)\n",
    "df.loc[:,'enrolled_university'] = df['enrolled_university'].map(enrolled_university)\n",
    "df.loc[:,'relevent_experience'] = df['relevent_experience'].map(relevent_experience)\n",
    "df.loc[:,'gender'] = df['gender'].map(gender)\n",
    "df.loc[:,'experience'] = df['experience'].map(experience)"
   ]
  },
  {
   "cell_type": "markdown",
   "id": "7a82036c",
   "metadata": {},
   "source": [
    "#### Handling Missing Value"
   ]
  },
  {
   "cell_type": "code",
   "execution_count": 31,
   "id": "930575ac",
   "metadata": {},
   "outputs": [],
   "source": [
    "from sklearn.impute import KNNImputer\n",
    "\n",
    "knn_imputer = KNNImputer()\n",
    "\n",
    "# copy data just in case\n",
    "copy = df.copy()\n",
    "\n",
    "copy = knn_imputer.fit_transform(copy)\n",
    "\n",
    "# pembulatan nilai knn\n",
    "copy[:, 3:] = np.round(copy[:, 3:])\n",
    "df = pd.DataFrame(copy, columns = df.columns)"
   ]
  },
  {
   "cell_type": "markdown",
   "id": "3dc85269",
   "metadata": {},
   "source": [
    "##### Normalize the dataset"
   ]
  },
  {
   "cell_type": "code",
   "execution_count": 33,
   "id": "b90f4719",
   "metadata": {},
   "outputs": [
    {
     "data": {
      "text/html": [
       "<div>\n",
       "<style scoped>\n",
       "    .dataframe tbody tr th:only-of-type {\n",
       "        vertical-align: middle;\n",
       "    }\n",
       "\n",
       "    .dataframe tbody tr th {\n",
       "        vertical-align: top;\n",
       "    }\n",
       "\n",
       "    .dataframe thead th {\n",
       "        text-align: right;\n",
       "    }\n",
       "</style>\n",
       "<table border=\"1\" class=\"dataframe\">\n",
       "  <thead>\n",
       "    <tr style=\"text-align: right;\">\n",
       "      <th></th>\n",
       "      <th>city</th>\n",
       "      <th>city_development_index</th>\n",
       "      <th>gender</th>\n",
       "      <th>relevent_experience</th>\n",
       "      <th>enrolled_university</th>\n",
       "      <th>education_level</th>\n",
       "      <th>major_discipline</th>\n",
       "      <th>experience</th>\n",
       "      <th>company_size</th>\n",
       "      <th>company_type</th>\n",
       "      <th>last_new_job</th>\n",
       "      <th>training_hours</th>\n",
       "      <th>target</th>\n",
       "    </tr>\n",
       "  </thead>\n",
       "  <tbody>\n",
       "    <tr>\n",
       "      <th>0</th>\n",
       "      <td>0.040984</td>\n",
       "      <td>0.942116</td>\n",
       "      <td>0.5</td>\n",
       "      <td>1.0</td>\n",
       "      <td>0.0</td>\n",
       "      <td>0.50</td>\n",
       "      <td>0.0</td>\n",
       "      <td>1.000000</td>\n",
       "      <td>0.571429</td>\n",
       "      <td>0.0</td>\n",
       "      <td>0.2</td>\n",
       "      <td>0.104478</td>\n",
       "      <td>1.0</td>\n",
       "    </tr>\n",
       "    <tr>\n",
       "      <th>1</th>\n",
       "      <td>0.631148</td>\n",
       "      <td>0.654691</td>\n",
       "      <td>0.5</td>\n",
       "      <td>0.0</td>\n",
       "      <td>0.0</td>\n",
       "      <td>0.50</td>\n",
       "      <td>0.0</td>\n",
       "      <td>0.714286</td>\n",
       "      <td>0.285714</td>\n",
       "      <td>0.0</td>\n",
       "      <td>1.0</td>\n",
       "      <td>0.137313</td>\n",
       "      <td>0.0</td>\n",
       "    </tr>\n",
       "    <tr>\n",
       "      <th>2</th>\n",
       "      <td>0.524590</td>\n",
       "      <td>0.351297</td>\n",
       "      <td>0.5</td>\n",
       "      <td>0.0</td>\n",
       "      <td>1.0</td>\n",
       "      <td>0.50</td>\n",
       "      <td>0.0</td>\n",
       "      <td>0.238095</td>\n",
       "      <td>0.714286</td>\n",
       "      <td>0.0</td>\n",
       "      <td>0.0</td>\n",
       "      <td>0.244776</td>\n",
       "      <td>0.0</td>\n",
       "    </tr>\n",
       "    <tr>\n",
       "      <th>3</th>\n",
       "      <td>0.114754</td>\n",
       "      <td>0.680639</td>\n",
       "      <td>0.5</td>\n",
       "      <td>0.0</td>\n",
       "      <td>0.5</td>\n",
       "      <td>0.50</td>\n",
       "      <td>0.2</td>\n",
       "      <td>0.000000</td>\n",
       "      <td>0.428571</td>\n",
       "      <td>0.0</td>\n",
       "      <td>0.0</td>\n",
       "      <td>0.152239</td>\n",
       "      <td>1.0</td>\n",
       "    </tr>\n",
       "    <tr>\n",
       "      <th>4</th>\n",
       "      <td>0.409836</td>\n",
       "      <td>0.636727</td>\n",
       "      <td>0.5</td>\n",
       "      <td>1.0</td>\n",
       "      <td>0.0</td>\n",
       "      <td>0.75</td>\n",
       "      <td>0.0</td>\n",
       "      <td>1.000000</td>\n",
       "      <td>0.285714</td>\n",
       "      <td>0.2</td>\n",
       "      <td>0.8</td>\n",
       "      <td>0.020896</td>\n",
       "      <td>0.0</td>\n",
       "    </tr>\n",
       "    <tr>\n",
       "      <th>...</th>\n",
       "      <td>...</td>\n",
       "      <td>...</td>\n",
       "      <td>...</td>\n",
       "      <td>...</td>\n",
       "      <td>...</td>\n",
       "      <td>...</td>\n",
       "      <td>...</td>\n",
       "      <td>...</td>\n",
       "      <td>...</td>\n",
       "      <td>...</td>\n",
       "      <td>...</td>\n",
       "      <td>...</td>\n",
       "      <td>...</td>\n",
       "    </tr>\n",
       "    <tr>\n",
       "      <th>19153</th>\n",
       "      <td>0.450820</td>\n",
       "      <td>0.858283</td>\n",
       "      <td>0.5</td>\n",
       "      <td>0.0</td>\n",
       "      <td>0.0</td>\n",
       "      <td>0.50</td>\n",
       "      <td>0.4</td>\n",
       "      <td>0.666667</td>\n",
       "      <td>0.428571</td>\n",
       "      <td>0.2</td>\n",
       "      <td>0.2</td>\n",
       "      <td>0.122388</td>\n",
       "      <td>1.0</td>\n",
       "    </tr>\n",
       "    <tr>\n",
       "      <th>19154</th>\n",
       "      <td>0.040984</td>\n",
       "      <td>0.942116</td>\n",
       "      <td>0.5</td>\n",
       "      <td>1.0</td>\n",
       "      <td>0.0</td>\n",
       "      <td>0.50</td>\n",
       "      <td>0.0</td>\n",
       "      <td>0.666667</td>\n",
       "      <td>0.571429</td>\n",
       "      <td>0.4</td>\n",
       "      <td>0.8</td>\n",
       "      <td>0.152239</td>\n",
       "      <td>1.0</td>\n",
       "    </tr>\n",
       "    <tr>\n",
       "      <th>19155</th>\n",
       "      <td>0.040984</td>\n",
       "      <td>0.942116</td>\n",
       "      <td>0.5</td>\n",
       "      <td>1.0</td>\n",
       "      <td>0.0</td>\n",
       "      <td>0.50</td>\n",
       "      <td>0.0</td>\n",
       "      <td>1.000000</td>\n",
       "      <td>0.285714</td>\n",
       "      <td>0.0</td>\n",
       "      <td>0.8</td>\n",
       "      <td>0.128358</td>\n",
       "      <td>0.0</td>\n",
       "    </tr>\n",
       "    <tr>\n",
       "      <th>19156</th>\n",
       "      <td>0.770492</td>\n",
       "      <td>0.706587</td>\n",
       "      <td>0.5</td>\n",
       "      <td>1.0</td>\n",
       "      <td>0.0</td>\n",
       "      <td>0.25</td>\n",
       "      <td>0.2</td>\n",
       "      <td>0.000000</td>\n",
       "      <td>0.571429</td>\n",
       "      <td>0.0</td>\n",
       "      <td>0.4</td>\n",
       "      <td>0.286567</td>\n",
       "      <td>0.0</td>\n",
       "    </tr>\n",
       "    <tr>\n",
       "      <th>19157</th>\n",
       "      <td>0.778689</td>\n",
       "      <td>0.812375</td>\n",
       "      <td>0.6</td>\n",
       "      <td>0.0</td>\n",
       "      <td>0.0</td>\n",
       "      <td>0.00</td>\n",
       "      <td>0.0</td>\n",
       "      <td>0.095238</td>\n",
       "      <td>0.428571</td>\n",
       "      <td>0.0</td>\n",
       "      <td>0.2</td>\n",
       "      <td>0.376119</td>\n",
       "      <td>0.0</td>\n",
       "    </tr>\n",
       "  </tbody>\n",
       "</table>\n",
       "<p>19158 rows × 13 columns</p>\n",
       "</div>"
      ],
      "text/plain": [
       "           city  city_development_index  gender  relevent_experience  \\\n",
       "0      0.040984                0.942116     0.5                  1.0   \n",
       "1      0.631148                0.654691     0.5                  0.0   \n",
       "2      0.524590                0.351297     0.5                  0.0   \n",
       "3      0.114754                0.680639     0.5                  0.0   \n",
       "4      0.409836                0.636727     0.5                  1.0   \n",
       "...         ...                     ...     ...                  ...   \n",
       "19153  0.450820                0.858283     0.5                  0.0   \n",
       "19154  0.040984                0.942116     0.5                  1.0   \n",
       "19155  0.040984                0.942116     0.5                  1.0   \n",
       "19156  0.770492                0.706587     0.5                  1.0   \n",
       "19157  0.778689                0.812375     0.6                  0.0   \n",
       "\n",
       "       enrolled_university  education_level  major_discipline  experience  \\\n",
       "0                      0.0             0.50               0.0    1.000000   \n",
       "1                      0.0             0.50               0.0    0.714286   \n",
       "2                      1.0             0.50               0.0    0.238095   \n",
       "3                      0.5             0.50               0.2    0.000000   \n",
       "4                      0.0             0.75               0.0    1.000000   \n",
       "...                    ...              ...               ...         ...   \n",
       "19153                  0.0             0.50               0.4    0.666667   \n",
       "19154                  0.0             0.50               0.0    0.666667   \n",
       "19155                  0.0             0.50               0.0    1.000000   \n",
       "19156                  0.0             0.25               0.2    0.000000   \n",
       "19157                  0.0             0.00               0.0    0.095238   \n",
       "\n",
       "       company_size  company_type  last_new_job  training_hours  target  \n",
       "0          0.571429           0.0           0.2        0.104478     1.0  \n",
       "1          0.285714           0.0           1.0        0.137313     0.0  \n",
       "2          0.714286           0.0           0.0        0.244776     0.0  \n",
       "3          0.428571           0.0           0.0        0.152239     1.0  \n",
       "4          0.285714           0.2           0.8        0.020896     0.0  \n",
       "...             ...           ...           ...             ...     ...  \n",
       "19153      0.428571           0.2           0.2        0.122388     1.0  \n",
       "19154      0.571429           0.4           0.8        0.152239     1.0  \n",
       "19155      0.285714           0.0           0.8        0.128358     0.0  \n",
       "19156      0.571429           0.0           0.4        0.286567     0.0  \n",
       "19157      0.428571           0.0           0.2        0.376119     0.0  \n",
       "\n",
       "[19158 rows x 13 columns]"
      ]
     },
     "execution_count": 33,
     "metadata": {},
     "output_type": "execute_result"
    }
   ],
   "source": [
    "# Standaridzed data menggunakan MinMaxScaler\n",
    "from sklearn.preprocessing import MinMaxScaler\n",
    "\n",
    "scaler = MinMaxScaler()\n",
    "scaler.fit(df)\n",
    "\n",
    "d = pd.DataFrame(scaler.transform(df), \n",
    "                  index=df.index, columns=df.columns)\n",
    "d"
   ]
  },
  {
   "cell_type": "markdown",
   "id": "6055ea61",
   "metadata": {},
   "source": [
    "##### Select the best Feature"
   ]
  },
  {
   "cell_type": "code",
   "execution_count": 41,
   "id": "3a2ea171",
   "metadata": {},
   "outputs": [
    {
     "name": "stdout",
     "output_type": "stream",
     "text": [
      "Index(['city_development_index', 'relevent_experience', 'enrolled_university',\n",
      "       'experience', 'last_new_job'],\n",
      "      dtype='object')\n"
     ]
    }
   ],
   "source": [
    "# Untuk memberi informasi tentang top fitur\n",
    "a = d.loc[:,d.columns!='target']\n",
    "b = d[['target']]\n",
    "\n",
    "# SelectKBest\n",
    "from sklearn.feature_selection import SelectKBest, chi2\n",
    "\n",
    "selector = SelectKBest(chi2, k=5)\n",
    "selector.fit(a, b)\n",
    "a_new = selector.transform(a)\n",
    "print(a.columns[selector.get_support(indices=True)])"
   ]
  },
  {
   "cell_type": "markdown",
   "id": "a858f558",
   "metadata": {},
   "source": [
    "Setelah dilakukan pemilihan fitur dan dipertimbangkan dari kategorikal dan numerikal maka fitur-fitur yang akan dipilih ialah:\n",
    "- city_development_index\n",
    "- relevent_experience\n",
    "- enrolled_university\n",
    "- experience\n",
    "- last_new_job"
   ]
  },
  {
   "cell_type": "code",
   "execution_count": 44,
   "id": "1089885e",
   "metadata": {},
   "outputs": [
    {
     "data": {
      "text/html": [
       "<div>\n",
       "<style scoped>\n",
       "    .dataframe tbody tr th:only-of-type {\n",
       "        vertical-align: middle;\n",
       "    }\n",
       "\n",
       "    .dataframe tbody tr th {\n",
       "        vertical-align: top;\n",
       "    }\n",
       "\n",
       "    .dataframe thead th {\n",
       "        text-align: right;\n",
       "    }\n",
       "</style>\n",
       "<table border=\"1\" class=\"dataframe\">\n",
       "  <thead>\n",
       "    <tr style=\"text-align: right;\">\n",
       "      <th></th>\n",
       "      <th>city_development_index</th>\n",
       "      <th>relevent_experience</th>\n",
       "      <th>enrolled_university</th>\n",
       "      <th>experience</th>\n",
       "      <th>last_new_job</th>\n",
       "      <th>target</th>\n",
       "    </tr>\n",
       "  </thead>\n",
       "  <tbody>\n",
       "    <tr>\n",
       "      <th>0</th>\n",
       "      <td>0.920</td>\n",
       "      <td>1.0</td>\n",
       "      <td>0.0</td>\n",
       "      <td>21.0</td>\n",
       "      <td>1.0</td>\n",
       "      <td>1.0</td>\n",
       "    </tr>\n",
       "    <tr>\n",
       "      <th>1</th>\n",
       "      <td>0.776</td>\n",
       "      <td>0.0</td>\n",
       "      <td>0.0</td>\n",
       "      <td>15.0</td>\n",
       "      <td>5.0</td>\n",
       "      <td>0.0</td>\n",
       "    </tr>\n",
       "    <tr>\n",
       "      <th>2</th>\n",
       "      <td>0.624</td>\n",
       "      <td>0.0</td>\n",
       "      <td>2.0</td>\n",
       "      <td>5.0</td>\n",
       "      <td>0.0</td>\n",
       "      <td>0.0</td>\n",
       "    </tr>\n",
       "    <tr>\n",
       "      <th>3</th>\n",
       "      <td>0.789</td>\n",
       "      <td>0.0</td>\n",
       "      <td>1.0</td>\n",
       "      <td>0.0</td>\n",
       "      <td>0.0</td>\n",
       "      <td>1.0</td>\n",
       "    </tr>\n",
       "    <tr>\n",
       "      <th>4</th>\n",
       "      <td>0.767</td>\n",
       "      <td>1.0</td>\n",
       "      <td>0.0</td>\n",
       "      <td>21.0</td>\n",
       "      <td>4.0</td>\n",
       "      <td>0.0</td>\n",
       "    </tr>\n",
       "  </tbody>\n",
       "</table>\n",
       "</div>"
      ],
      "text/plain": [
       "   city_development_index  relevent_experience  enrolled_university  \\\n",
       "0                   0.920                  1.0                  0.0   \n",
       "1                   0.776                  0.0                  0.0   \n",
       "2                   0.624                  0.0                  2.0   \n",
       "3                   0.789                  0.0                  1.0   \n",
       "4                   0.767                  1.0                  0.0   \n",
       "\n",
       "   experience  last_new_job  target  \n",
       "0        21.0           1.0     1.0  \n",
       "1        15.0           5.0     0.0  \n",
       "2         5.0           0.0     0.0  \n",
       "3         0.0           0.0     1.0  \n",
       "4        21.0           4.0     0.0  "
      ]
     },
     "execution_count": 44,
     "metadata": {},
     "output_type": "execute_result"
    }
   ],
   "source": [
    "# Buat tabel baru untuk top fitur\n",
    "df_new = df[['city_development_index', 'relevent_experience', 'enrolled_university',\n",
    "       'experience', 'last_new_job','target']]\n",
    "df_new.head()"
   ]
  },
  {
   "cell_type": "markdown",
   "id": "af4e519c",
   "metadata": {},
   "source": [
    "#### Define X and y"
   ]
  },
  {
   "cell_type": "code",
   "execution_count": 45,
   "id": "8819962c",
   "metadata": {},
   "outputs": [],
   "source": [
    "# Mendefinisikan X dan y\n",
    "X = df_new.drop(columns=['target'])\n",
    "y = df_new['target']"
   ]
  },
  {
   "cell_type": "markdown",
   "id": "5c91ac66",
   "metadata": {},
   "source": [
    "#### Data Split\n",
    "Memisahkan dataset menjadi 30% untuk test dan 70% untuk train."
   ]
  },
  {
   "cell_type": "code",
   "execution_count": 46,
   "id": "377df5d2",
   "metadata": {},
   "outputs": [
    {
     "name": "stdout",
     "output_type": "stream",
     "text": [
      "Total of Training data :  13410\n",
      "Total of Testing data :  5748\n"
     ]
    }
   ],
   "source": [
    "# Mendefinisikan train, test pada X dan y\n",
    "from sklearn.model_selection import train_test_split\n",
    "\n",
    "X_train, X_test, y_train, y_test = train_test_split(X, y, test_size=0.3,random_state=0)\n",
    "\n",
    "print(\"Total of Training data : \", len(X_train))\n",
    "print(\"Total of Testing data : \", len(X_test))"
   ]
  },
  {
   "cell_type": "markdown",
   "id": "da4a2ac5",
   "metadata": {},
   "source": [
    "#### Scaling Data"
   ]
  },
  {
   "cell_type": "code",
   "execution_count": 47,
   "id": "7babf5d3",
   "metadata": {},
   "outputs": [],
   "source": [
    "# Standaridzed data menggunakan StandardScaler\n",
    "from sklearn.preprocessing import StandardScaler\n",
    "from sklearn.pipeline import Pipeline\n",
    "\n",
    "num_pipe = Pipeline([('scaler', StandardScaler())])"
   ]
  },
  {
   "cell_type": "code",
   "execution_count": 48,
   "id": "d4a784f6",
   "metadata": {},
   "outputs": [],
   "source": [
    "X_train = num_pipe.fit_transform(X_train)\n",
    "X_test = num_pipe.transform(X_test)"
   ]
  },
  {
   "cell_type": "markdown",
   "id": "d3d98386",
   "metadata": {},
   "source": [
    "### Model Definition\n",
    "Dalam analisis ini, kami menggunakan beberapa model dalam *Machine Learning* sebagai model untuk melatih dataset, seperti:\n",
    "1. Logistic Regression\n",
    "3. Decision Tree\n",
    "4. Random Forest Classifier\n",
    "5. K Nearest Neighbour"
   ]
  },
  {
   "cell_type": "markdown",
   "id": "bbbb5fc5",
   "metadata": {},
   "source": [
    "### Model Training"
   ]
  },
  {
   "cell_type": "code",
   "execution_count": 49,
   "id": "6627fc35",
   "metadata": {},
   "outputs": [],
   "source": [
    "# Model\n",
    "from sklearn.linear_model import LogisticRegression\n",
    "from sklearn.tree import DecisionTreeClassifier\n",
    "from sklearn.ensemble import RandomForestClassifier\n",
    "from sklearn.neighbors import KNeighborsClassifier\n",
    "\n",
    "# Evaluation\n",
    "from sklearn.metrics import accuracy_score, confusion_matrix, classification_report, roc_curve\n",
    "from sklearn.model_selection import cross_val_score\n",
    "from sklearn.model_selection import GridSearchCV"
   ]
  },
  {
   "cell_type": "markdown",
   "id": "dba12d5a",
   "metadata": {},
   "source": [
    "### 1. Logistic Regression"
   ]
  },
  {
   "cell_type": "code",
   "execution_count": 50,
   "id": "d6f804dd",
   "metadata": {},
   "outputs": [
    {
     "name": "stdout",
     "output_type": "stream",
     "text": [
      "confusion matrix\n",
      "[[4009  288]\n",
      " [1084  367]]\n",
      "\n",
      "\n",
      "              precision    recall  f1-score   support\n",
      "\n",
      "         0.0       0.79      0.93      0.85      4297\n",
      "         1.0       0.56      0.25      0.35      1451\n",
      "\n",
      "    accuracy                           0.76      5748\n",
      "   macro avg       0.67      0.59      0.60      5748\n",
      "weighted avg       0.73      0.76      0.73      5748\n",
      "\n"
     ]
    }
   ],
   "source": [
    "# Define and fit\n",
    "lr=LogisticRegression()\n",
    "lr.fit(X_train,y_train)\n",
    "\n",
    "# Predict\n",
    "pred_lr=lr.predict(X_test)\n",
    "\n",
    "# Accuracy Score\n",
    "score_lr = accuracy_score(y_test, pred_lr)\n",
    "\n",
    "# Confusion Matrix\n",
    "lr_conf_matrix = confusion_matrix(y_test, pred_lr)\n",
    "print(\"confusion matrix\")\n",
    "print(lr_conf_matrix)\n",
    "print(\"\\n\")\n",
    "print(classification_report(y_test,pred_lr))"
   ]
  },
  {
   "cell_type": "code",
   "execution_count": 51,
   "id": "d198718e",
   "metadata": {},
   "outputs": [
    {
     "name": "stdout",
     "output_type": "stream",
     "text": [
      "Logistic Regression Accuracy: 0.77 (+/- 0.01)\n"
     ]
    }
   ],
   "source": [
    "# Cross Validation\n",
    "cv_lr = cross_val_score(lr, X,y, cv=10)\n",
    "print(\"Logistic Regression Accuracy: %0.2f (+/- %0.2f)\" % (cv_lr.mean(), cv_lr.std()*2))"
   ]
  },
  {
   "cell_type": "markdown",
   "id": "83e577c0",
   "metadata": {},
   "source": [
    "Dari hasil **Logistic Regression** dapat dikatakan bahwa:\n",
    "\n",
    "Logistic Regression memiliki kemampuan yang cukup untuk mendeteksi **tidak pindah pekerjaan** dengan nilai *Precision* 0.79, nilai *Recall* 0.93 dan nilai F1 0.85\n",
    "\n",
    "Dan memiliki kemampuan yang tidak baik untuk mendeteksi **pindah pekerjaan** dengan nilai *Precision* 0.56, nilai *Recall* 0.25 dan nilai F1 0.35\n",
    "\n",
    "Jadi Logistic Regression memiliki akurasi yang cukup baik yaitu 0.76, lalu setelah dilakukannya cross validation di dapat dengan hasil yang sama yaitu 0.77."
   ]
  },
  {
   "cell_type": "markdown",
   "id": "ab412ed0",
   "metadata": {},
   "source": [
    "### 3. Decision Tree"
   ]
  },
  {
   "cell_type": "code",
   "execution_count": 52,
   "id": "a055dbbf",
   "metadata": {},
   "outputs": [
    {
     "name": "stdout",
     "output_type": "stream",
     "text": [
      "confusion matrix\n",
      "[[3707  590]\n",
      " [ 970  481]]\n",
      "\n",
      "\n",
      "              precision    recall  f1-score   support\n",
      "\n",
      "         0.0       0.79      0.86      0.83      4297\n",
      "         1.0       0.45      0.33      0.38      1451\n",
      "\n",
      "    accuracy                           0.73      5748\n",
      "   macro avg       0.62      0.60      0.60      5748\n",
      "weighted avg       0.71      0.73      0.71      5748\n",
      "\n"
     ]
    }
   ],
   "source": [
    "# Decision Tree\n",
    "tree = DecisionTreeClassifier( max_depth= 20, criterion= 'gini',random_state=42)\n",
    "tree.fit(X_train,y_train)\n",
    "\n",
    "# Predict\n",
    "pred_tree = tree.predict(X_test)\n",
    "\n",
    "# Accuracy\n",
    "score_tree = accuracy_score(y_test,pred_tree)\n",
    "\n",
    "# Confusion Matrix\n",
    "tree_conf_matrix = confusion_matrix(y_test, pred_tree)\n",
    "print(\"confusion matrix\")\n",
    "print(tree_conf_matrix)\n",
    "print(\"\\n\")\n",
    "print(classification_report(y_test,pred_tree))"
   ]
  },
  {
   "cell_type": "code",
   "execution_count": 53,
   "id": "56bb0fec",
   "metadata": {},
   "outputs": [
    {
     "name": "stdout",
     "output_type": "stream",
     "text": [
      "Decision Tree Accuracy: 0.74 (+/- 0.02)\n"
     ]
    }
   ],
   "source": [
    "# Cross Validation\n",
    "cv_tree = cross_val_score(tree, X,y, cv=10)\n",
    "print(\"Decision Tree Accuracy: %0.2f (+/- %0.2f)\" % (cv_tree.mean(), cv_tree.std()*2))"
   ]
  },
  {
   "cell_type": "markdown",
   "id": "cc3b675d",
   "metadata": {},
   "source": [
    "Dari hasil **Decision Tree** dapat dikatakan bahwa:\n",
    "\n",
    "Decision Tree memiliki kemampuan yang cukup untuk mendeteksi **tidak pindah pekerjaan** dengan nilai *Precision* 0.79, nilai *Recall* 0.86 dan nilai F1 0.83\n",
    "\n",
    "Dan memiliki kemampuan yang tidak baik untuk mendeteksi **pindah pekerjaan** dengan nilai *Precision* 0.45, nilai *Recall* 0.33 dan nilai F1 0.48\n",
    "\n",
    "Jadi Decision Tree memiliki akurasi yang cukup baik yaitu 0.73, lalu setelah dilakukannya cross validation di dapat dengan hasil yang sama yaitu 0.74."
   ]
  },
  {
   "cell_type": "markdown",
   "id": "24e12ce0",
   "metadata": {},
   "source": [
    "### 4. Random Forest Classifier"
   ]
  },
  {
   "cell_type": "code",
   "execution_count": 54,
   "id": "663e07d6",
   "metadata": {},
   "outputs": [
    {
     "name": "stdout",
     "output_type": "stream",
     "text": [
      "confusion matrix\n",
      "[[3883  414]\n",
      " [ 868  583]]\n",
      "\n",
      "\n",
      "              precision    recall  f1-score   support\n",
      "\n",
      "         0.0       0.82      0.90      0.86      4297\n",
      "         1.0       0.58      0.40      0.48      1451\n",
      "\n",
      "    accuracy                           0.78      5748\n",
      "   macro avg       0.70      0.65      0.67      5748\n",
      "weighted avg       0.76      0.78      0.76      5748\n",
      "\n"
     ]
    }
   ],
   "source": [
    "# Random Forest Classifier\n",
    "rfc = RandomForestClassifier(n_estimators=100,random_state=42,max_leaf_nodes=100,max_depth=5)\n",
    "rfc.fit(X_train,y_train)\n",
    "\n",
    "# Predict\n",
    "pred_rfc = rfc.predict(X_test)\n",
    "\n",
    "# Accuracy\n",
    "score_rfc = accuracy_score(y_test,pred_rfc)\n",
    "\n",
    "# Confusion Matrix\n",
    "rfc_conf_matrix = confusion_matrix(y_test, pred_rfc)\n",
    "print(\"confusion matrix\")\n",
    "print(rfc_conf_matrix)\n",
    "print(\"\\n\")\n",
    "print(classification_report(y_test,pred_rfc))"
   ]
  },
  {
   "cell_type": "code",
   "execution_count": 55,
   "id": "9b6d5b3c",
   "metadata": {},
   "outputs": [
    {
     "name": "stdout",
     "output_type": "stream",
     "text": [
      "Random Forest Accuracy: 0.78 (+/- 0.01)\n"
     ]
    }
   ],
   "source": [
    "# Cross Validation\n",
    "cv_rfc = cross_val_score(rfc, X,y, cv=10)\n",
    "print(\"Random Forest Accuracy: %0.2f (+/- %0.2f)\" % (cv_rfc.mean(), cv_rfc.std()*2))"
   ]
  },
  {
   "cell_type": "markdown",
   "id": "50571d01",
   "metadata": {},
   "source": [
    "Dari hasil **Random Forest** dapat dikatakan bahwa:\n",
    "\n",
    "Random Forest memiliki kemampuan yang cukup untuk mendeteksi **tidak pindah pekerjaan** dengan nilai *Precision* 0.82, nilai *Recall* 0.90 dan nilai F1 0.86 \n",
    "\n",
    "Dan memiliki kemampuan yang tidak baik untuk mendeteksi **pindah pekerjaan** dengan nilai *Precision* 0.58, nilai *Recall* 0.40 dan nilai F1 0.48\n",
    "\n",
    "Jadi Random Forest memiliki akurasi yang cukup baik yaitu 0.78, lalu setelah dilakukannya cross validation di dapat dengan hasil yang sama yaitu 0.78."
   ]
  },
  {
   "cell_type": "markdown",
   "id": "e32c6cb6",
   "metadata": {},
   "source": [
    "### 5. KNN"
   ]
  },
  {
   "cell_type": "code",
   "execution_count": 56,
   "id": "7b055c73",
   "metadata": {},
   "outputs": [
    {
     "name": "stdout",
     "output_type": "stream",
     "text": [
      "confusion matrix\n",
      "[[3939  358]\n",
      " [1070  381]]\n",
      "\n",
      "\n",
      "              precision    recall  f1-score   support\n",
      "\n",
      "         0.0       0.79      0.92      0.85      4297\n",
      "         1.0       0.52      0.26      0.35      1451\n",
      "\n",
      "    accuracy                           0.75      5748\n",
      "   macro avg       0.65      0.59      0.60      5748\n",
      "weighted avg       0.72      0.75      0.72      5748\n",
      "\n"
     ]
    }
   ],
   "source": [
    "# KNN\n",
    "knn = KNeighborsClassifier(n_neighbors=10)\n",
    "knn.fit(X_train,y_train)\n",
    "\n",
    "# Predict\n",
    "pred_knn = knn.predict(X_test)\n",
    "\n",
    "# Accuracy\n",
    "score_knn = accuracy_score(y_test,pred_knn)\n",
    "\n",
    "# Confusion Matrix\n",
    "knn_conf_matrix = confusion_matrix(y_test, pred_knn)\n",
    "print(\"confusion matrix\")\n",
    "print(knn_conf_matrix)\n",
    "print(\"\\n\")\n",
    "print(classification_report(y_test,pred_knn))"
   ]
  },
  {
   "cell_type": "code",
   "execution_count": 57,
   "id": "8103dd20",
   "metadata": {},
   "outputs": [
    {
     "name": "stdout",
     "output_type": "stream",
     "text": [
      "KNN Accuracy: 0.76 (+/- 0.01)\n"
     ]
    }
   ],
   "source": [
    "# Cross Validation\n",
    "cv_knn = cross_val_score(knn, X,y, cv=10)\n",
    "print(\"KNN Accuracy: %0.2f (+/- %0.2f)\" % (cv_knn.mean(), cv_knn.std()*2))"
   ]
  },
  {
   "cell_type": "markdown",
   "id": "52dd2d46",
   "metadata": {},
   "source": [
    "Dari hasil **KNN** dapat dikatakan bahwa:\n",
    "\n",
    "KNN memiliki kemampuan yang cukup untuk mendeteksi **tidak pindah pekerjaan** dengan nilai *Precision* 0.79, nilai *Recall* 0.92 dan nilai F1 0.85\n",
    "\n",
    "Dan memiliki kemampuan yang tidak baik untuk mendeteksi **pindah pekerjaan** dengan nilai *Precision* 0.52, nilai *Recall* 0.26 dan nilai F1 0.35\n",
    "\n",
    "Jadi KNN memiliki akurasi yang cukup baik yaitu 0.75, lalu setelah dilakukannya cross validation di dapat dengan hasil yang sama yaitu 0.76."
   ]
  },
  {
   "cell_type": "markdown",
   "id": "50104270",
   "metadata": {},
   "source": [
    "### ROC Curve"
   ]
  },
  {
   "cell_type": "code",
   "execution_count": 58,
   "id": "745a3eb1",
   "metadata": {},
   "outputs": [
    {
     "data": {
      "image/png": "[encoded data removed]",
      "text/plain": [
       "<Figure size 720x360 with 1 Axes>"
      ]
     },
     "metadata": {},
     "output_type": "display_data"
    }
   ],
   "source": [
    "# Saving the confusion matrix result by using the roc_curve function\n",
    "fpr1, tpr1, thresholds1 = roc_curve(y_test, pred_lr)\n",
    "fpr2, tpr2, thresholds2 = roc_curve(y_test, pred_tree)\n",
    "fpr3, tpr3, thresholds3 = roc_curve(y_test, pred_rfc)                                                           \n",
    "fpr4, tpr4, thresholds4 = roc_curve(y_test, pred_knn)\n",
    "\n",
    "\n",
    "\n",
    "# Shows the visualization of the ROC Curve from each model\n",
    "sns.set_style('whitegrid')\n",
    "plt.figure(figsize=(10,5))\n",
    "plt.title('Reciver Operating Characterstic Curve')\n",
    "plt.plot(fpr1, tpr1,label='Logistic Regression')\n",
    "plt.plot(fpr2, tpr2,label='Desion Tree')\n",
    "plt.plot(fpr3, tpr3,label='Random Forest')\n",
    "plt.plot(fpr4, tpr4,label='K-Nearest Neighbor')\n",
    "plt.plot([0,1],ls='--')\n",
    "plt.plot([0,0],[1,0],c='.5')\n",
    "plt.plot([1,1],c='.5')\n",
    "plt.ylabel('True positive rate')\n",
    "plt.xlabel('False positive rate')\n",
    "plt.legend()\n",
    "plt.show()"
   ]
  },
  {
   "cell_type": "markdown",
   "id": "7899165d",
   "metadata": {},
   "source": [
    "### Model Accuracy"
   ]
  },
  {
   "cell_type": "code",
   "execution_count": 59,
   "id": "44877c54",
   "metadata": {},
   "outputs": [
    {
     "data": {
      "text/html": [
       "<div>\n",
       "<style scoped>\n",
       "    .dataframe tbody tr th:only-of-type {\n",
       "        vertical-align: middle;\n",
       "    }\n",
       "\n",
       "    .dataframe tbody tr th {\n",
       "        vertical-align: top;\n",
       "    }\n",
       "\n",
       "    .dataframe thead th {\n",
       "        text-align: right;\n",
       "    }\n",
       "</style>\n",
       "<table border=\"1\" class=\"dataframe\">\n",
       "  <thead>\n",
       "    <tr style=\"text-align: right;\">\n",
       "      <th></th>\n",
       "      <th>Model</th>\n",
       "      <th>Accuracy (%)</th>\n",
       "      <th>Mean Accuracy(%)</th>\n",
       "    </tr>\n",
       "  </thead>\n",
       "  <tbody>\n",
       "    <tr>\n",
       "      <th>0</th>\n",
       "      <td>Logistic Regression</td>\n",
       "      <td>76.130828</td>\n",
       "      <td>76.547600</td>\n",
       "    </tr>\n",
       "    <tr>\n",
       "      <th>1</th>\n",
       "      <td>Decision Tree</td>\n",
       "      <td>72.860125</td>\n",
       "      <td>73.760317</td>\n",
       "    </tr>\n",
       "    <tr>\n",
       "      <th>2</th>\n",
       "      <td>Random Forest</td>\n",
       "      <td>77.696590</td>\n",
       "      <td>78.150125</td>\n",
       "    </tr>\n",
       "    <tr>\n",
       "      <th>3</th>\n",
       "      <td>K-Nearest Neighbour</td>\n",
       "      <td>75.156576</td>\n",
       "      <td>75.686414</td>\n",
       "    </tr>\n",
       "  </tbody>\n",
       "</table>\n",
       "</div>"
      ],
      "text/plain": [
       "                 Model  Accuracy (%)  Mean Accuracy(%)\n",
       "0  Logistic Regression     76.130828         76.547600\n",
       "1        Decision Tree     72.860125         73.760317\n",
       "2        Random Forest     77.696590         78.150125\n",
       "3  K-Nearest Neighbour     75.156576         75.686414"
      ]
     },
     "execution_count": 59,
     "metadata": {},
     "output_type": "execute_result"
    }
   ],
   "source": [
    "model = pd.DataFrame({'Model': ['Logistic Regression','Decision Tree','Random Forest',\n",
    "                                   'K-Nearest Neighbour'], \n",
    "                         'Accuracy (%)': [score_lr*100, score_tree*100, score_rfc*100,\n",
    "                                          score_knn*100\n",
    "                                         ],\n",
    "                         'Mean Accuracy(%)': [cv_lr.mean()*100, cv_tree.mean()*100, \n",
    "                                              cv_rfc.mean()*100, cv_knn.mean()*100, \n",
    "                                              ]\n",
    "                        })\n",
    "model"
   ]
  },
  {
   "cell_type": "code",
   "execution_count": 61,
   "id": "127d0a39",
   "metadata": {},
   "outputs": [
    {
     "data": {
      "image/png": "[encoded data removed]",
      "text/plain": [
       "<Figure size 720x360 with 1 Axes>"
      ]
     },
     "metadata": {},
     "output_type": "display_data"
    }
   ],
   "source": [
    "# Showing the Accuracy Model\n",
    "plt.figure(figsize=(10,5))\n",
    "plt.title('Accuracy Model')\n",
    "sns.barplot(data=model, x='Model', y='Accuracy (%)', palette='Set2')\n",
    "plt.show()"
   ]
  },
  {
   "cell_type": "code",
   "execution_count": 62,
   "id": "e8f81b74",
   "metadata": {},
   "outputs": [
    {
     "data": {
      "image/png": "[encoded data removed]",
      "text/plain": [
       "<Figure size 720x360 with 1 Axes>"
      ]
     },
     "metadata": {},
     "output_type": "display_data"
    }
   ],
   "source": [
    "# Showing the Accuracy Model\n",
    "plt.figure(figsize=(10,5))\n",
    "plt.title('Mean Accuracy Model')\n",
    "sns.barplot(data=model, x='Model', y='Mean Accuracy(%)', palette='Set2')\n",
    "plt.show()"
   ]
  },
  {
   "cell_type": "markdown",
   "id": "9b7188ce",
   "metadata": {},
   "source": [
    "Setelah melakukan model pelatihan dan *cross validation*, kami memutuskan untuk mengambil 1 model terbaik yaitu **Random Forest** yang selanjutnya akan dicari parameter terbaiknya dan akan dilatih kembali."
   ]
  },
  {
   "cell_type": "markdown",
   "id": "7ce2c855",
   "metadata": {},
   "source": [
    "### Hyperparameter Tuning with GridSearchCV"
   ]
  },
  {
   "cell_type": "code",
   "execution_count": 63,
   "id": "a01266e2",
   "metadata": {},
   "outputs": [
    {
     "name": "stdout",
     "output_type": "stream",
     "text": [
      "Fitting 3 folds for each of 38 candidates, totalling 114 fits\n"
     ]
    },
    {
     "data": {
      "text/plain": [
       "GridSearchCV(cv=3,\n",
       "             estimator=RandomForestClassifier(max_depth=5, max_leaf_nodes=100,\n",
       "                                              random_state=42),\n",
       "             n_jobs=-1,\n",
       "             param_grid=[{'criterion': ('gini', 'entropy'),\n",
       "                          'max_depth': [10, 20],\n",
       "                          'max_leaf_nodes': [100, 120, 150],\n",
       "                          'n_estimators': [100, 150, 200]},\n",
       "                         {'bootstrap': [False], 'n_estimators': [100, 200]}],\n",
       "             return_train_score=True, scoring='accuracy', verbose=1)"
      ]
     },
     "execution_count": 63,
     "metadata": {},
     "output_type": "execute_result"
    }
   ],
   "source": [
    "params2 = [{\n",
    "    'criterion':(\"gini\", \"entropy\"),\n",
    "    'n_estimators':[100, 150, 200],  \n",
    "    'max_leaf_nodes':[100, 120, 150],\n",
    "    'max_depth':[10,20]},\n",
    "\n",
    "    {'bootstrap':[False], \n",
    "     'n_estimators':[100, 200]}]\n",
    "\n",
    "rf_gs = GridSearchCV(rfc, params2, scoring=\"accuracy\", n_jobs=-1, verbose=1, cv=3, return_train_score=True)\n",
    "rf_gs.fit(X_train, y_train)"
   ]
  },
  {
   "cell_type": "code",
   "execution_count": 64,
   "id": "2bc63bb2",
   "metadata": {},
   "outputs": [
    {
     "name": "stdout",
     "output_type": "stream",
     "text": [
      "Best parameters: {'criterion': 'entropy', 'max_depth': 10, 'max_leaf_nodes': 120, 'n_estimators': 100}\n"
     ]
    }
   ],
   "source": [
    "best_params_rf = rf_gs.best_params_\n",
    "print(f\"Best parameters: {best_params_rf}\")"
   ]
  },
  {
   "cell_type": "code",
   "execution_count": 65,
   "id": "2e3e7127",
   "metadata": {},
   "outputs": [
    {
     "name": "stdout",
     "output_type": "stream",
     "text": [
      "confusion matrix\n",
      "[[3882  415]\n",
      " [ 867  584]]\n",
      "\n",
      "\n",
      "              precision    recall  f1-score   support\n",
      "\n",
      "         0.0       0.82      0.90      0.86      4297\n",
      "         1.0       0.58      0.40      0.48      1451\n",
      "\n",
      "    accuracy                           0.78      5748\n",
      "   macro avg       0.70      0.65      0.67      5748\n",
      "weighted avg       0.76      0.78      0.76      5748\n",
      "\n"
     ]
    }
   ],
   "source": [
    "# Random Forest with hyperparameters\n",
    "rf1 = RandomForestClassifier(**best_params_rf)\n",
    "rf1.fit(X_train, y_train)\n",
    "\n",
    "# Predict\n",
    "pred_rf1 = rf1.predict(X_test)\n",
    "\n",
    "# Accuracy\n",
    "score_rf1 = accuracy_score(y_test,pred_rf1)\n",
    "\n",
    "# Confusion Matrix\n",
    "rf1_conf_matrix = confusion_matrix(y_test, pred_rf1)\n",
    "print(\"confusion matrix\")\n",
    "print(rf1_conf_matrix)\n",
    "print(\"\\n\")\n",
    "print(classification_report(y_test,pred_rf1))"
   ]
  },
  {
   "cell_type": "markdown",
   "id": "649a8a02",
   "metadata": {},
   "source": [
    "Setelah melakukan tunning menggunakan GridSearch CV saya tidak melihat adanya perbedaan."
   ]
  },
  {
   "cell_type": "markdown",
   "id": "4ee1c50e",
   "metadata": {},
   "source": [
    "### Model Inference\n",
    "Setelah melakukan pengevaluasian didapatkan hasil bahwa *Random Forest* adalah model yang terbaik dengan akurasi 78% dan kita akan mencoba menguji dengan parameter terbaik"
   ]
  },
  {
   "cell_type": "code",
   "execution_count": 67,
   "id": "23dca3b1",
   "metadata": {},
   "outputs": [
    {
     "data": {
      "text/html": [
       "<div>\n",
       "<style scoped>\n",
       "    .dataframe tbody tr th:only-of-type {\n",
       "        vertical-align: middle;\n",
       "    }\n",
       "\n",
       "    .dataframe tbody tr th {\n",
       "        vertical-align: top;\n",
       "    }\n",
       "\n",
       "    .dataframe thead th {\n",
       "        text-align: right;\n",
       "    }\n",
       "</style>\n",
       "<table border=\"1\" class=\"dataframe\">\n",
       "  <thead>\n",
       "    <tr style=\"text-align: right;\">\n",
       "      <th></th>\n",
       "      <th>city_development_index</th>\n",
       "      <th>relevent_experience</th>\n",
       "      <th>enrolled_university</th>\n",
       "      <th>experience</th>\n",
       "      <th>last_new_job</th>\n",
       "    </tr>\n",
       "  </thead>\n",
       "  <tbody>\n",
       "    <tr>\n",
       "      <th>16144</th>\n",
       "      <td>0.910</td>\n",
       "      <td>1.0</td>\n",
       "      <td>0.0</td>\n",
       "      <td>6.0</td>\n",
       "      <td>1.0</td>\n",
       "    </tr>\n",
       "    <tr>\n",
       "      <th>13661</th>\n",
       "      <td>0.920</td>\n",
       "      <td>1.0</td>\n",
       "      <td>0.0</td>\n",
       "      <td>21.0</td>\n",
       "      <td>2.0</td>\n",
       "    </tr>\n",
       "    <tr>\n",
       "      <th>344</th>\n",
       "      <td>0.924</td>\n",
       "      <td>1.0</td>\n",
       "      <td>0.0</td>\n",
       "      <td>9.0</td>\n",
       "      <td>1.0</td>\n",
       "    </tr>\n",
       "  </tbody>\n",
       "</table>\n",
       "</div>"
      ],
      "text/plain": [
       "       city_development_index  relevent_experience  enrolled_university  \\\n",
       "16144                   0.910                  1.0                  0.0   \n",
       "13661                   0.920                  1.0                  0.0   \n",
       "344                     0.924                  1.0                  0.0   \n",
       "\n",
       "       experience  last_new_job  \n",
       "16144         6.0           1.0  \n",
       "13661        21.0           2.0  \n",
       "344           9.0           1.0  "
      ]
     },
     "execution_count": 67,
     "metadata": {},
     "output_type": "execute_result"
    }
   ],
   "source": [
    "new = df_new.sample(n=3, random_state=42)\n",
    "new.drop(['target'], axis=1, inplace=True)\n",
    "new"
   ]
  },
  {
   "cell_type": "code",
   "execution_count": 68,
   "id": "9cb9256f",
   "metadata": {},
   "outputs": [
    {
     "name": "stdout",
     "output_type": "stream",
     "text": [
      "Hasil Klasifikasi model Random Forest : \n",
      "\n",
      "Target [0. 0. 0.]\n"
     ]
    }
   ],
   "source": [
    "# Predict\n",
    "predict = rf1.predict(new)\n",
    "\n",
    "print(\"Hasil Klasifikasi model Random Forest : \\n\")\n",
    "print('Target {}'.format(predict))"
   ]
  },
  {
   "cell_type": "markdown",
   "id": "15140f71",
   "metadata": {},
   "source": [
    "### Kesimpulan\n",
    "\n",
    "- Lebih banyak karyawan dengan pengalaman yang relevan dengan jam pelatihan yang lebih rendah.\n",
    "- lulusan memiliki pengalaman yang lebih relevan dibandingkan dengan yang lain.\n",
    "- Setelah melakukan model pelatihan dan *cross validation*, kami memutuskan untuk mengambil 1 model terbaik yaitu **Random Forest** yang selanjutnya akan dicari parameter terbaiknya dan akan dilatih kembali.\n",
    "- Setelah melakukan pengevaluasian didapatkan hasil bahwa *Random Forest* adalah model yang terbaik dengan akurasi 78% dan kita akan mencoba menguji dengan parameter terbaik"
   ]
  }
 ],
 "metadata": {
  "kernelspec": {
   "display_name": "Python 3",
   "language": "python",
   "name": "python3"
  },
  "language_info": {
   "codemirror_mode": {
    "name": "ipython",
    "version": 3
   },
   "file_extension": ".py",
   "mimetype": "text/x-python",
   "name": "python",
   "nbconvert_exporter": "python",
   "pygments_lexer": "ipython3",
   "version": "3.8.8"
  }
 },
 "nbformat": 4,
 "nbformat_minor": 5
}
